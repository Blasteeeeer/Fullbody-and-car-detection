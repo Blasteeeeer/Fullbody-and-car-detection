{
 "cells": [
  {
   "cell_type": "code",
   "execution_count": 1,
   "id": "0c7ba0e7",
   "metadata": {},
   "outputs": [],
   "source": [
    "import cv2 as cv"
   ]
  },
  {
   "cell_type": "code",
   "execution_count": 9,
   "id": "c4156fe8",
   "metadata": {},
   "outputs": [],
   "source": [
    "body_classifier = cv.CascadeClassifier(\"haarcascade_fullbody.xml\")\n",
    "car_classifier = cv.CascadeClassifier(\"cars.xml\")\n",
    "\n",
    "cap = cv.VideoCapture(\"v1.mp4\")\n",
    "\n",
    "while True:\n",
    "    _,frame = cap.read() \n",
    "    gray = cv.cvtColor(frame,cv.COLOR_BGR2GRAY)\n",
    "    body = body_classifier.detectMultiScale(gray,1.1,4)\n",
    "    car = car_classifier.detectMultiScale(gray,1.1,4)\n",
    "\n",
    "    for (x,y,w,h) in car:\n",
    "        cv.rectangle(frame,(x,y),(x+w,y+h),(0,0,0),5)\n",
    "        cv.putText(frame,\"Car\",(x,y-10),cv.FONT_HERSHEY_SIMPLEX,1,(255,0,0),2)\n",
    "\n",
    "    for (x,y,w,h) in body:\n",
    "        cv.rectangle(frame,(x,y),(x+w,y+h),(0,0,255),5)\n",
    "        cv.putText(frame,\"Body\",(x,y-10),cv.FONT_HERSHEY_SIMPLEX,1,(255,0,0),2)\n",
    "\n",
    "    cv.imshow(\"video.mp4\",frame)\n",
    "    \n",
    "    key = cv.waitKey(30)\n",
    "    \n",
    "    if key == 27:\n",
    "        break\n",
    "\n",
    "cap.release()\n",
    "cv.destroyAllWindows()"
   ]
  }
 ],
 "metadata": {
  "kernelspec": {
   "display_name": "Python 3",
   "language": "python",
   "name": "python3"
  },
  "language_info": {
   "codemirror_mode": {
    "name": "ipython",
    "version": 3
   },
   "file_extension": ".py",
   "mimetype": "text/x-python",
   "name": "python",
   "nbconvert_exporter": "python",
   "pygments_lexer": "ipython3",
   "version": "3.8.8"
  }
 },
 "nbformat": 4,
 "nbformat_minor": 5
}
